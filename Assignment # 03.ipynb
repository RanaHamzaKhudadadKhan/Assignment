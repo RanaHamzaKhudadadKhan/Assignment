{
 "cells": [
  {
   "cell_type": "markdown",
   "metadata": {},
   "source": [
    "**Question # 01**"
   ]
  },
  {
   "cell_type": "code",
   "execution_count": 1,
   "metadata": {},
   "outputs": [
    {
     "name": "stdout",
     "output_type": "stream",
     "text": [
      "enter operator(+,-,*,/,^)*\n",
      "enter first number87\n",
      "enter second number90\n",
      "7830\n"
     ]
    }
   ],
   "source": [
    "Oper = input(\"enter operator(+,-,*,/,^)\")\n",
    "if Oper == \"+\" or Oper == \"-\" or Oper == \"*\" or Oper == \"/\":\n",
    "    a = int(input(\"enter first number\"))\n",
    "    b = int(input(\"enter second number\"))\n",
    "    if Oper == \"+\":\n",
    "        print(a+b)\n",
    "    elif Oper == \"-\":\n",
    "        print(a-b)\n",
    "    elif Oper == \"*\":\n",
    "        print(a*b)\n",
    "    elif Oper == \"/\":\n",
    "        print(a/b)\n",
    "elif Oper == \"^\":\n",
    "    a = int(input(\"enter number\"))\n",
    "    b = int(input(\"enter power\"))\n",
    "    print(a**b)\n",
    "else:\n",
    "    print(\"incorrect operator\")"
   ]
  },
  {
   "cell_type": "markdown",
   "metadata": {},
   "source": [
    "**Question # 02**"
   ]
  },
  {
   "cell_type": "code",
   "execution_count": 2,
   "metadata": {},
   "outputs": [
    {
     "name": "stdout",
     "output_type": "stream",
     "text": [
      "8\n",
      "99999\n"
     ]
    }
   ],
   "source": [
    "a = [ \"hi\", 10.5 , \"don't know\" , 8 , \"hide\" , 0.145 , \"pizza\" , 99999 ]\n",
    "\n",
    "for x in a:\n",
    "    b = type(x)\n",
    "    if b == int:\n",
    "        print (x)"
   ]
  },
  {
   "cell_type": "markdown",
   "metadata": {},
   "source": [
    "**Question # 03**"
   ]
  },
  {
   "cell_type": "code",
   "execution_count": 4,
   "metadata": {},
   "outputs": [
    {
     "name": "stdout",
     "output_type": "stream",
     "text": [
      "27.763429752066116\n"
     ]
    }
   ],
   "source": [
    "boy_1 = {\"height\": 1.76, \"weight\": 86 , \"waist\" : 34 }\n",
    "h = boy_1[\"height\"]\n",
    "w = boy_1[\"weight\"]\n",
    "BMI = w / (h**2)\n",
    "boy_1[\"BMI\"] = BMI \n",
    "print(boy_1[\"BMI\"])"
   ]
  },
  {
   "cell_type": "markdown",
   "metadata": {},
   "source": [
    "**Question # 04**"
   ]
  },
  {
   "cell_type": "code",
   "execution_count": 5,
   "metadata": {},
   "outputs": [
    {
     "name": "stdout",
     "output_type": "stream",
     "text": [
      "110.1\n"
     ]
    }
   ],
   "source": [
    "numbers = {\"a\" : 98 , \"b\" : 0.1 , \"c\" : 10 , \"e\" : 2}\n",
    "sum = 0\n",
    "for x in numbers:\n",
    "    z = numbers[x]\n",
    "    \n",
    "    sum = sum + z \n",
    "print (sum)"
   ]
  },
  {
   "cell_type": "markdown",
   "metadata": {},
   "source": [
    "**Question # 05**"
   ]
  },
  {
   "cell_type": "code",
   "execution_count": 6,
   "metadata": {},
   "outputs": [
    {
     "name": "stdout",
     "output_type": "stream",
     "text": [
      "hi\n",
      "12\n",
      "world\n"
     ]
    }
   ],
   "source": [
    "list1 = [\"hi\" , 12 , \"world\" , 98 , \"world\" , \"mango\" , 12 , \"hi\"]\n",
    "size = len(list1)\n",
    "for x in range(size):\n",
    "    e1=list1[x]\n",
    "    a = x+1\n",
    "    for y in range(a,size):\n",
    "        e2=list1[y]\n",
    "        if e1 == e2:\n",
    "            print(e1)"
   ]
  },
  {
   "cell_type": "markdown",
   "metadata": {},
   "source": [
    "**Question # 06**"
   ]
  },
  {
   "cell_type": "code",
   "execution_count": 7,
   "metadata": {},
   "outputs": [
    {
     "name": "stdout",
     "output_type": "stream",
     "text": [
      "Key is not present in the dictionary\n"
     ]
    }
   ],
   "source": [
    "boy_1 = {\"height\": 1.3, \"weight\": 70 , \"waist\" : 30 }\n",
    "x = \"BMI\"\n",
    "if x in boy_1:\n",
    "      print('Key is present in the dictionary')\n",
    "else:\n",
    "      print('Key is not present in the dictionary')"
   ]
  }
 ],
 "metadata": {
  "kernelspec": {
   "display_name": "Python 3",
   "language": "python",
   "name": "python3"
  },
  "language_info": {
   "codemirror_mode": {
    "name": "ipython",
    "version": 3
   },
   "file_extension": ".py",
   "mimetype": "text/x-python",
   "name": "python",
   "nbconvert_exporter": "python",
   "pygments_lexer": "ipython3",
   "version": "3.7.4"
  }
 },
 "nbformat": 4,
 "nbformat_minor": 2
}
