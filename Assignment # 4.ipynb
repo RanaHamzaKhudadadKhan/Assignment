{
 "cells": [
  {
   "cell_type": "markdown",
   "metadata": {},
   "source": [
    "**Question # 1**"
   ]
  },
  {
   "cell_type": "code",
   "execution_count": 6,
   "metadata": {},
   "outputs": [
    {
     "name": "stdout",
     "output_type": "stream",
     "text": [
      "First_name : Hamza\n",
      "Last_name : khan\n",
      "Age : 21\n",
      "City : Karachi\n",
      "{'First_name': 'Hamza', 'Last_name': 'khan', 'Age': '21', 'City': 'Karachi', 'Qualification': 'matric'}\n",
      "{'First_name': 'Hamza', 'Last_name': 'khan', 'Age': '21', 'City': 'Karachi', 'Qualification': 'high academic level'}\n",
      "{'First_name': 'Hamza', 'Last_name': 'khan', 'Age': '21', 'City': 'Karachi'}\n"
     ]
    }
   ],
   "source": [
    "person = {\"First_name\" : \"Hamza\", \"Last_name\" : \"khan\", \"Age\" : \"21\", \"City\" : \"Karachi\"}\n",
    "\n",
    "for key , value in person.items() :\n",
    "    print(key + \" : \" + value)\n",
    "person[\"Qualification\"] = \"matric\"\n",
    "print(person)\n",
    "person[\"Qualification\"] = \"high academic level\"\n",
    "print(person)\n",
    "del person[\"Qualification\"]\n",
    "print (person)"
   ]
  },
  {
   "cell_type": "markdown",
   "metadata": {},
   "source": [
    "**Question # 2**"
   ]
  },
  {
   "cell_type": "code",
   "execution_count": null,
   "metadata": {},
   "outputs": [],
   "source": [
    "cities = {\n",
    "    \"karachi\" : {\"Country\" : \"pakistan\" , \n",
    "                 \"Population\" : \"approx 22 million\" , \n",
    "                 \"Fact\" : \"Student Biryani of karachi is famous in karachi\"} , \n",
    "    \"Istanbul\" : {\"Country\" : \"Turkey\" , \n",
    "                  \"Population\" : \"15 million\" , \n",
    "                  \"Fact\" : \"Istanbul is the only city in the world which is both in Europe and Asia.\"} , \n",
    "    \"Moscow\" : {\"Country\" : \"Russia\" , \n",
    "                \"Population\" : \"12 million\" , \n",
    "                \"Fact\" : \"Moscow claims the largest number of billionaires in the world.\"}\n",
    "}\n",
    "for key,value in cities.items():\n",
    "    print(key , \":\" , value)"
   ]
  },
  {
   "cell_type": "markdown",
   "metadata": {},
   "source": [
    "**Question # 3**"
   ]
  },
  {
   "cell_type": "code",
   "execution_count": null,
   "metadata": {},
   "outputs": [],
   "source": [
    "while True:\n",
    "    try:\n",
    "        age = int(input(\"enter age for ticket cost: \"))\n",
    "        if int(age) < 3:\n",
    "            print(\"ticket is free of cost\")\n",
    "        elif int(age) >= 3 and int(age) <= 12:\n",
    "            print(\"ticket cost is $10\")\n",
    "        elif int(age) > 12:\n",
    "            print(\"ticket cost is $15\")\n",
    "    except ValueError:\n",
    "        break"
   ]
  },
  {
   "cell_type": "markdown",
   "metadata": {},
   "source": [
    "**Question # 4**"
   ]
  },
  {
   "cell_type": "code",
   "execution_count": 2,
   "metadata": {},
   "outputs": [
    {
     "name": "stdout",
     "output_type": "stream",
     "text": [
      "Alice in wonderland: one of my favourite book is alice in the wonderland\n"
     ]
    }
   ],
   "source": [
    "def favorite_book(title):\n",
    "    print(title , \"one of my favourite book is alice in the wonderland\")\n",
    "    \n",
    "favorite_book(\"Alice in wonderland\" + \":\")    "
   ]
  },
  {
   "cell_type": "markdown",
   "metadata": {},
   "source": [
    "**Question # 5**"
   ]
  },
  {
   "cell_type": "code",
   "execution_count": 4,
   "metadata": {},
   "outputs": [
    {
     "name": "stdout",
     "output_type": "stream",
     "text": [
      "Hello!! and welcome to guessing the hidden number game.\n",
      "You will be given three chance to guess the right number.\n",
      "Guess the number:17\n",
      "Hidden number is larger than entered number\n",
      "Guess the number:20\n",
      "Hidden number is smaller than entered number\n",
      "Guess the number:18\n",
      "You lose, \n",
      " You couldn't guess the hidden number\n",
      "Hidden number is 19\n"
     ]
    }
   ],
   "source": [
    "import random\n",
    "\n",
    "print(\"Hello!! and welcome to guessing the hidden number game.\")\n",
    "print(\"You will be given three chance to guess the right number.\")\n",
    "\n",
    "num = random.randint(1,30)\n",
    "\n",
    "for i in range(3):\n",
    "    ans = int(input(\"Guess the number:\"))\n",
    "    if ans > num and i in range(2) : \n",
    "        print(\"Hidden number is smaller than entered number\")\n",
    "    elif ans < num and i in range(2) :\n",
    "        print(\"Hidden number is larger than entered number\")\n",
    "    elif ans == num :\n",
    "        print(\"Congratzz,\\n You have guessed the number right\")\n",
    "        print(\"Hidden number is\" , num)\n",
    "        break\n",
    "    if i == 2:\n",
    "        print (\"You lose, \\n You couldn't guess the hidden number\")\n",
    "        print (\"Hidden number is\" , num)"
   ]
  }
 ],
 "metadata": {
  "kernelspec": {
   "display_name": "Python 3",
   "language": "python",
   "name": "python3"
  },
  "language_info": {
   "codemirror_mode": {
    "name": "ipython",
    "version": 3
   },
   "file_extension": ".py",
   "mimetype": "text/x-python",
   "name": "python",
   "nbconvert_exporter": "python",
   "pygments_lexer": "ipython3",
   "version": "3.7.4"
  }
 },
 "nbformat": 4,
 "nbformat_minor": 2
}
