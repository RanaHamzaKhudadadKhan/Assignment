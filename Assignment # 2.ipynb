{
 "cells": [
  {
   "cell_type": "markdown",
   "metadata": {},
   "source": [
    "**Question # 1**"
   ]
  },
  {
   "cell_type": "code",
   "execution_count": 6,
   "metadata": {},
   "outputs": [
    {
     "name": "stdout",
     "output_type": "stream",
     "text": [
      "English Marks :76\n",
      "Maths Marks : 87\n",
      "Urdu Marks : 56\n",
      "Islamiat Marks :87\n",
      "Pak Studies Marks : 87\n",
      "Total :\n",
      "393\n",
      "Grade :\n",
      "A\n"
     ]
    }
   ],
   "source": [
    "x = int(input(\"English Marks :\"))\n",
    "y = int(input(\"Maths Marks : \"))\n",
    "z = int(input(\"Urdu Marks : \"))\n",
    "a = int(input(\"Islamiat Marks :\"))\n",
    "b = int(input(\"Pak Studies Marks : \"))\n",
    "Total = x + y + z + a + b\n",
    "\n",
    "print(\"Total :\")\n",
    "print(Total)\n",
    "\n",
    "print(\"Grade :\")\n",
    "if Total >= 400 and Total == 500 :\n",
    "    print(\"A1\")\n",
    "elif Total >= 350 and Total < 400 :\n",
    "    print(\"A\")\n",
    "elif Total >= 300 and Total < 350 :\n",
    "    print(\"B\")\n",
    "elif Total >= 250 and Total < 300 :\n",
    "    print(\"C\")\n",
    "else :\n",
    "    print(\"Wrong Entry\")\n",
    "    "
   ]
  },
  {
   "cell_type": "markdown",
   "metadata": {},
   "source": [
    "**Question # 02**"
   ]
  },
  {
   "cell_type": "code",
   "execution_count": 7,
   "metadata": {},
   "outputs": [
    {
     "name": "stdout",
     "output_type": "stream",
     "text": [
      "Enter a number :3\n",
      "is odd\n"
     ]
    }
   ],
   "source": [
    "x = int(input(\"Enter a number :\"))\n",
    "\n",
    "if x % 2 == 0 :\n",
    "    print(x , \"is even\")\n",
    "else :\n",
    "    print(\"is odd\")"
   ]
  },
  {
   "cell_type": "markdown",
   "metadata": {},
   "source": [
    "**Question # 03**"
   ]
  },
  {
   "cell_type": "code",
   "execution_count": 15,
   "metadata": {},
   "outputs": [
    {
     "name": "stdout",
     "output_type": "stream",
     "text": [
      "10\n"
     ]
    }
   ],
   "source": [
    "list1 = [\"dera\", \"hamza\", \"saad\", \"ali\", \"asghar\", \"jawad\", \"stop\", \"tahir\", \"tr\", \"like\"]\n",
    "length_of_list = len(list1)\n",
    "print(length_of_list)"
   ]
  },
  {
   "cell_type": "markdown",
   "metadata": {},
   "source": [
    "**Question # 04**"
   ]
  },
  {
   "cell_type": "code",
   "execution_count": 16,
   "metadata": {},
   "outputs": [
    {
     "name": "stdout",
     "output_type": "stream",
     "text": [
      "10103.367\n"
     ]
    }
   ],
   "source": [
    "list2 = [1, 3, 10.5, 87.887, 10000.98]\n",
    "total = sum(list2)\n",
    "print(total)"
   ]
  },
  {
   "cell_type": "markdown",
   "metadata": {},
   "source": [
    "**Question # 05**"
   ]
  },
  {
   "cell_type": "code",
   "execution_count": 17,
   "metadata": {},
   "outputs": [
    {
     "name": "stdout",
     "output_type": "stream",
     "text": [
      "78.98765\n"
     ]
    }
   ],
   "source": [
    "list3 = [5, 19.989, 78.09, 78.123, 78.98765]\n",
    "get = max(list3)\n",
    "print(get)"
   ]
  },
  {
   "cell_type": "markdown",
   "metadata": {},
   "source": [
    "**Question # 06**"
   ]
  },
  {
   "cell_type": "code",
   "execution_count": 2,
   "metadata": {},
   "outputs": [
    {
     "name": "stdout",
     "output_type": "stream",
     "text": [
      "1\n",
      "1\n",
      "2\n",
      "3\n",
      "4\n",
      "3\n",
      "2\n"
     ]
    }
   ],
   "source": [
    "a = [1, 1, 2, 3, 5, 8, 13, 21, 34, 55, 89,6,4,3,98,105,2]\n",
    "\n",
    "for x in a:\n",
    "    if x < 5 :\n",
    "        print(x)"
   ]
  }
 ],
 "metadata": {
  "kernelspec": {
   "display_name": "Python 3",
   "language": "python",
   "name": "python3"
  },
  "language_info": {
   "codemirror_mode": {
    "name": "ipython",
    "version": 3
   },
   "file_extension": ".py",
   "mimetype": "text/x-python",
   "name": "python",
   "nbconvert_exporter": "python",
   "pygments_lexer": "ipython3",
   "version": "3.7.4"
  }
 },
 "nbformat": 4,
 "nbformat_minor": 2
}
