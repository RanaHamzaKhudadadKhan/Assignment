{
 "cells": [
  {
   "cell_type": "code",
   "execution_count": 4,
   "metadata": {},
   "outputs": [
    {
     "name": "stdout",
     "output_type": "stream",
     "text": [
      "Enter Age : 13\n",
      "not allowed\n"
     ]
    }
   ],
   "source": [
    "age = int(input(\"Enter Age : \"))\n",
    "if age >= 18 :\n",
    "  print(\"allowed to ride as\")\n",
    "else :\n",
    "  print(\"not allowed\")"
   ]
  },
  {
   "cell_type": "code",
   "execution_count": 5,
   "metadata": {},
   "outputs": [
    {
     "name": "stdout",
     "output_type": "stream",
     "text": [
      "sense\n"
     ]
    }
   ],
   "source": [
    "if 2 + 2 == 4 :\n",
    "    print(\"sense\")"
   ]
  },
  {
   "cell_type": "code",
   "execution_count": 10,
   "metadata": {},
   "outputs": [
    {
     "name": "stdout",
     "output_type": "stream",
     "text": [
      "correct\n"
     ]
    }
   ],
   "source": [
    "#add colon sign after if & else for terminating\n",
    "x = 10;\n",
    "y = 12;\n",
    "a = 30;\n",
    "b = 8;\n",
    "\n",
    "if x + y == a - b :\n",
    "    print(\"correct\")\n",
    "else :\n",
    "    print(\"wrong\")\n"
   ]
  },
  {
   "cell_type": "code",
   "execution_count": null,
   "metadata": {},
   "outputs": [],
   "source": [
    "#elif more then two cond.\n",
    "\n",
    "per = int(input(\"enter your percentage % \"));\n",
    "if per >= 80 and per <= 100 :\n",
    "    print(\"A+\")\n",
    "elif per >= 70 and per < 80 :\n",
    "    print(\"A\")\n",
    "elif per >= 60 and per < 70 :\n",
    "    print(\"B\")\n",
    "elif per >= 0 and per < 60 :\n",
    "    print(\"fail\")\n",
    "else :\n",
    "    print(\"you have given inappropiate %\")"
   ]
  },
  {
   "cell_type": "code",
   "execution_count": null,
   "metadata": {},
   "outputs": [],
   "source": [
    "#elif more then two cond.\n",
    "\n",
    "per = int(input(\"enter your percentage % \"));\n",
    "if per >= 80 and per <= 100 :\n",
    "    print(\"A+\")\n",
    "elif per >= 70 and per < 80 :\n",
    "    print(\"A\")\n",
    "elif per >= 60 and per < 70 :\n",
    "    print(\"B\")\n",
    "elif per >= 0 and per < 60 :\n",
    "    print(\"fail\")\n",
    "else :\n",
    "    print(\"you have given inappropiate %\")\n",
    "    "
   ]
  },
  {
   "cell_type": "code",
   "execution_count": null,
   "metadata": {},
   "outputs": [],
   "source": [
    "per = int(input(\"enter your %\"));\n",
    "if per >= 80 and per <= 100 :\n",
    "    print (\"A+\")\n",
    "elif per >= 70 and per < 80 :\n",
    "    print(\"A\")\n",
    "elif per >= 60 and per < 70 :\n",
    "    print(\"B\")\n",
    "elif per >= 0 and per < 60 :\n",
    "    print(\"fail\")\n",
    "else :\n",
    "    print(\"incorrect percentage\")"
   ]
  },
  {
   "cell_type": "code",
   "execution_count": null,
   "metadata": {},
   "outputs": [],
   "source": []
  },
  {
   "cell_type": "code",
   "execution_count": null,
   "metadata": {},
   "outputs": [],
   "source": []
  }
 ],
 "metadata": {
  "kernelspec": {
   "display_name": "Python 3",
   "language": "python",
   "name": "python3"
  },
  "language_info": {
   "codemirror_mode": {
    "name": "ipython",
    "version": 3
   },
   "file_extension": ".py",
   "mimetype": "text/x-python",
   "name": "python",
   "nbconvert_exporter": "python",
   "pygments_lexer": "ipython3",
   "version": "3.7.4"
  }
 },
 "nbformat": 4,
 "nbformat_minor": 2
}
